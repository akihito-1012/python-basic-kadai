{
  "nbformat": 4,
  "nbformat_minor": 0,
  "metadata": {
    "colab": {
      "provenance": []
    },
    "kernelspec": {
      "name": "python3",
      "display_name": "Python 3"
    },
    "language_info": {
      "name": "python"
    }
  },
  "cells": [
    {
      "cell_type": "code",
      "source": [
        "class Human:\n",
        "  def __init__(self,name,age):\n",
        "    self.name = name\n",
        "    self.age = age\n",
        "\n",
        "  def check_adult(self):\n",
        "    if self.age >= 20:\n",
        "      print(f\"{self.name}は大人です\")\n",
        "    else:\n",
        "      print(f\"{self.name}は大人ではありません。\")\n",
        "human1 = Human(\"A\", 20)\n",
        "human2 = Human(\"B\", 15)\n",
        "human3 = Human(\"C\", 36)\n",
        "human4 = Human(\"D\", 5)\n",
        "\n",
        "people = [human1, human2, human3, human4]\n",
        "\n",
        "for person in people:\n",
        "  person.check_adult()"
      ],
      "metadata": {
        "colab": {
          "base_uri": "https://localhost:8080/"
        },
        "id": "m5eJoNXUrJSj",
        "outputId": "53bee5b0-1f79-4c35-b427-6cf7512131aa"
      },
      "execution_count": 15,
      "outputs": [
        {
          "output_type": "stream",
          "name": "stdout",
          "text": [
            "Aは大人です\n",
            "Bは大人ではありません。\n",
            "Cは大人です\n",
            "Dは大人ではありません。\n"
          ]
        }
      ]
    }
  ]
}